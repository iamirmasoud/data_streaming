{
 "cells": [
  {
   "cell_type": "markdown",
   "metadata": {
    "collapsed": true,
    "jupyter": {
     "outputs_hidden": true
    },
    "pycharm": {
     "name": "#%% md\n"
    }
   },
   "source": [
    "# Creating a Stream¶\n",
    "\n",
    "In this demonstration, we'll learn a few ways to create a KSQL Stream. Once we've created your stream, we'll also see how to delete them.\n",
    "\n",
    "\n",
    "Throughout this lesson we will refer to two topics:\n",
    "\n",
    "- com.sefidian.clickevents\n",
    "- com.sefidian.pages\n",
    "\n",
    "`com.sefidian.pages` has the following data shape:\n",
    "\n",
    "**Key**: `<uri: string>`\n",
    "**Value**:  \n",
    "```\n",
    "{\n",
    "\"uri\": <string>, \n",
    "\"description\": <string>, \n",
    "\"created\": <string>\n",
    "}\n",
    "```\n",
    "\n",
    "\n",
    "\n",
    "`com.sefidian.clickevents` has the following data shape:\n",
    "\n",
    "**Key**: `<uri: string>`\n",
    "**Value**: \n",
    "```\n",
    "{\n",
    "  \"email\": <string>,\n",
    "  \"timestamp\": <string>,\n",
    "  \"uri\": <string>,\n",
    "  \"number\": <int>\n",
    "}\n",
    "```\n",
    "\n",
    "# Showing Topics¶\n",
    "## Connect to docker ksql container:\n",
    "The first step is to open the KSQL CLI.\n",
    "\n",
    "```shell\n",
    "docker exec -it ksqldb-cli ksql http://ksqldb:8088\n",
    "```\n",
    "\n",
    "With the CLI Open, let's now see what Kafka Topics we have available to us:\n",
    "\n",
    "```shell\n",
    "ksql> SHOW TOPICS;\n",
    "```\n",
    "\n",
    "# Create Streams\n",
    "```SQL\n",
    "CREATE STREAM clicks (\n",
    "  email VARCHAR,\n",
    "  timestamp VARCHAR,\n",
    "  uri VARCHAR,\n",
    "  number INT\n",
    ") WITH (\n",
    "  KAFKA_TOPIC = 'com.sefidian.clickevents',\n",
    "  VALUE_FORMAT = 'JSON'\n",
    ");\n",
    "```\n",
    "\n",
    "# Show Stream\n",
    "```SQL\n",
    "SHOW STREAMS;\n",
    "```\n",
    "\n",
    "```SQL\n",
    "SELECT * FROM clicks LIMIT 10;\n",
    "```\n",
    "\n",
    "```SQL\n",
    "CREATE STREAM a_clicks AS SELECT * FROM clicks WHERE URI = 'A';\n",
    "```\n",
    "\n",
    "```SQL\n",
    "SHOW QUERIES;\n",
    "```\n",
    "\n",
    "\n",
    "```SQL\n",
    "TERMINATE CSAS_A_CLICKS_3;\n",
    "```\n",
    "\n",
    "```SQL\n",
    "DROP STREAM A_CLICKS;\n",
    "```"
   ]
  },
  {
   "cell_type": "markdown",
   "metadata": {
    "collapsed": false,
    "jupyter": {
     "outputs_hidden": false
    },
    "pycharm": {
     "name": "#%%\n"
    }
   },
   "source": [
    "```SQL\n",
    "CREATE TABLE Clicks_table (\n",
    "  email STRING,\n",
    "  timestamp STRING,\n",
    "  uri STRING PRIMARY KEY,\n",
    "  number INT\n",
    ") WITH (\n",
    "  KAFKA_TOPIC='com.sefidian.clickevents',\n",
    "  VALUE_FORMAT='JSON'\n",
    ");\n",
    "```\n",
    "\n",
    "```SQL\n",
    "CREATE TABLE a_clicks_table AS SELECT * FROM Clicks_table WHERE URI = 'A';\n",
    "```\n",
    "\n",
    "```SQL\n",
    "SET 'auto.offset.reset' = 'earliest';\n",
    "\n",
    "UNSET 'auto.offset.reset' = 'earliest';\n",
    "\n",
    "SHOW TABLES;\n",
    "\n",
    "SELECT * FROM Clicks_table LIMIT 5;\n",
    "\n",
    "CREATE TABLE clicks_test \n",
    "WITH (kafka_topic='com.sefidian.clickevents', format='json')\n",
    "AS SELECT * FROM clicks \n",
    "EMIT CHANGES;\n",
    "```"
   ]
  },
  {
   "cell_type": "code",
   "execution_count": null,
   "metadata": {},
   "outputs": [],
   "source": []
  }
 ],
 "metadata": {
  "kernelspec": {
   "display_name": "Python 3 (ipykernel)",
   "language": "python",
   "name": "python3"
  },
  "language_info": {
   "codemirror_mode": {
    "name": "ipython",
    "version": 3
   },
   "file_extension": ".py",
   "mimetype": "text/x-python",
   "name": "python",
   "nbconvert_exporter": "python",
   "pygments_lexer": "ipython3",
   "version": "3.8.17"
  }
 },
 "nbformat": 4,
 "nbformat_minor": 4
}
